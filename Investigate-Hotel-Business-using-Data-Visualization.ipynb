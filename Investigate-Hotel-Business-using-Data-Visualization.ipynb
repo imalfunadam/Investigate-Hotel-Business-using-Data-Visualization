{
 "cells": [
  {
   "cell_type": "markdown",
   "metadata": {},
   "source": [
    "# Investigate Hotel Business using Data Visualization\n",
    "\n",
    "**Table of Content:**\n",
    "\n",
    "- Introduction\n",
    "- Load Dataset\n",
    "- Data Exploration\n",
    "- Data Cleansing\n",
    "- Data Visualization\n",
    "\n",
    "## Introduction\n",
    "\n",
    "\n",
    "**Background**\n",
    "\n",
    "Analisis kinerja bisnis merupakan proses penting yang perlu dilakukan oleh perusahaan untuk mengetahui kondisi dan kinerja perusahaan saat ini. Analisis ini dapat membantu perusahaan untuk mengidentifikasi permasalahan, kelemahan, dan kekuatan yang dimilikinya. Dalam bisnis perhotelan, pemahaman perilaku pelanggan merupakan hal yang penting. Dengan memahami perilaku pelanggan, perusahaan dapat mengetahui faktor-faktor yang mempengaruhi keputusan pelanggan dalam melakukan pemesanan hotel. Selain itu, perusahaan juga dapat mengidentifikasi produk atau layanan apa yang kurang diminati oleh pelanggan. Hal ini dilakukan untuk menyesuaikan strategi bisnis yang tepat guna sehingga perusahaan dapat meningkatkan pengalaman pelanggan dan dapat mencapai tujuan bisnis jangka panjang\" diubah menjadi \"Dengan memahami permasalahan, kelemahan, dan kekuatan yang dimiliki serta perilaku pelanggan, perusahaan dapat menyesuaikan strategi bisnisnya agar dapat meningkatkan pengalaman pelanggan dan mencapai tujuan bisnis jangka panjang.\n",
    "\n",
    "**Business Questions**\n",
    "\n",
    "Jenis hotel apa yang paling sering dikunjungi oleh pelanggan?\n",
    "Apakah durasi menginap mempengaruhi tingkat pembatalan pemesanan hotel?\n",
    "Apakah jarak waktu antara pemesanan hotel dan hari kedatangan tamu mempengaruhi tingkat pembatalan pemesanan hotel?\n",
    "\n",
    "**Objective**\n",
    "\n",
    "Membuat visualisasi berbasis data sebagai insight bagi bisnis hotel\n",
    "\n"
   ]
  },
  {
   "cell_type": "code",
   "execution_count": null,
   "metadata": {},
   "outputs": [],
   "source": []
  }
 ],
 "metadata": {
  "kernelspec": {
   "display_name": "base",
   "language": "python",
   "name": "python3"
  },
  "language_info": {
   "name": "python",
   "version": "3.11.4"
  }
 },
 "nbformat": 4,
 "nbformat_minor": 2
}
